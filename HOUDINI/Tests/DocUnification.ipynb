{
 "cells": [
  {
   "cell_type": "code",
   "execution_count": 1,
   "metadata": {
    "collapsed": true
   },
   "outputs": [],
   "source": [
    "from NeuralProgramming.Tests.DocUnification import *\n",
    "from NeuralProgramming.Synthesizer.ASTDSL import mkIntTensorSort\n",
    "from NeuralProgramming.Synthesizer.Unification import *\n",
    "from IPython.core.display import display, HTML\n",
    "from NeuralProgramming.Synthesizer.ASTDSL import *"
   ]
  },
  {
   "cell_type": "code",
   "execution_count": 2,
   "metadata": {},
   "outputs": [
    {
     "name": "stdout",
     "output_type": "stream",
     "text": [
      "Tensor[int][A, 3]\nTensor[int][2, B]\n"
     ]
    },
    {
     "data": {
      "text/html": [
       "<table  border=\"1\"><tr><td> xs </td><td> Tensor[int][A, 3] </td><td> Tensor[int][A, A] </td></tr><tr><td> ys </td><td> Tensor[int][2, B] </td><td> Tensor[int][2, 2] </td></tr><tr><td> xs+ </td><td> Tensor[int][2, 3] </td><td> Tensor[int][2, 2] </td></tr><tr><td> ys+ </td><td> Tensor[int][2, 3] </td><td> Tensor[int][2, 2] </td></tr></table><br><table  border=\"1\"><tr><td> B </td><td> 3 </td></tr><tr><td> A </td><td> 2 </td></tr></table>"
      ],
      "text/plain": [
       "<table  border=\"1\"><tr><td> xs </td><td> Tensor[int][A, 3] </td><td> Tensor[int][A, A] </td></tr><tr><td> ys </td><td> Tensor[int][2, B] </td><td> Tensor[int][2, 2] </td></tr><tr><td> xs+ </td><td> Tensor[int][2, 3] </td><td> Tensor[int][2, 2] </td></tr><tr><td> ys+ </td><td> Tensor[int][2, 3] </td><td> Tensor[int][2, 2] </td></tr></table><br><table  border=\"1\"><tr><td> B </td><td> 3 </td></tr><tr><td> A </td><td> 2 </td></tr></table>"
      ]
     },
     "execution_count": 0,
     "metadata": {},
     "output_type": "execute_result"
    }
   ],
   "source": [
    "s1 = mkIntTensorSort(['A', 3])\n",
    "t1 = mkIntTensorSort([2, 'B'])\n",
    "\n",
    "s2 = mkIntTensorSort(['A', 'A'])\n",
    "t2 = mkIntTensorSort([2, 2])\n",
    "\n",
    "print(simplerep(s1))\n",
    "print(simplerep(t1))\n",
    "display(HTML(displayUnifyListH([s1, s2], [t1, t2])))"
   ]
  },
  {
   "cell_type": "code",
   "execution_count": 3,
   "metadata": {},
   "outputs": [
    {
     "data": {
      "text/html": [
       "<table  border=\"1\"><tr><td> xs </td><td> ( ( T1 -> T2) * List[T1] -> List[T2]) </td></tr><tr><td> ys </td><td> ( ( S -> S) * List[S] -> List[S]) </td></tr><tr><td> xs+ </td><td> ( ( S -> S) * List[S] -> List[S]) </td></tr><tr><td> ys+ </td><td> ( ( S -> S) * List[S] -> List[S]) </td></tr></table><br><table  border=\"1\"><tr><td> T1 </td><td> S </td></tr><tr><td> T2 </td><td> S </td></tr></table>"
      ],
      "text/plain": [
       "<table  border=\"1\"><tr><td> xs </td><td> ( ( T1 -> T2) * List[T1] -> List[T2]) </td></tr><tr><td> ys </td><td> ( ( S -> S) * List[S] -> List[S]) </td></tr><tr><td> xs+ </td><td> ( ( S -> S) * List[S] -> List[S]) </td></tr><tr><td> ys+ </td><td> ( ( S -> S) * List[S] -> List[S]) </td></tr></table><br><table  border=\"1\"><tr><td> T1 </td><td> S </td></tr><tr><td> T2 </td><td> S </td></tr></table>"
      ]
     },
     "execution_count": 0,
     "metadata": {},
     "output_type": "execute_result"
    }
   ],
   "source": [
    "t1 = PPSortVar('T1')\n",
    "t2 = PPSortVar('T2')\n",
    "s = PPSortVar('S')\n",
    "x = mkFuncSort(mkFuncSort(t1, t2), mkListSort(t1), mkListSort(t2))\n",
    "y = mkFuncSort(mkFuncSort(s, s), mkListSort(s), mkListSort(s))\n",
    "\n",
    "display(HTML(displayUnifyListH([x], [y])))"
   ]
  },
  {
   "cell_type": "code",
   "execution_count": 4,
   "metadata": {},
   "outputs": [],
   "source": [
    ""
   ]
  },
  {
   "cell_type": "code",
   "execution_count": 4,
   "metadata": {},
   "outputs": [],
   "source": [
    ""
   ]
  },
  {
   "cell_type": "code",
   "execution_count": 4,
   "metadata": {},
   "outputs": [],
   "source": [
    ""
   ]
  }
 ],
 "metadata": {
  "kernelspec": {
   "display_name": "Python 3",
   "language": "python",
   "name": "python3"
  },
  "language_info": {
   "codemirror_mode": {
    "name": "ipython",
    "version": 3
   },
   "file_extension": ".py",
   "mimetype": "text/x-python",
   "name": "python",
   "nbconvert_exporter": "python",
   "pygments_lexer": "ipython3",
   "version": "3.6.2"
  }
 },
 "nbformat": 4,
 "nbformat_minor": 1
}
